{
 "cells": [
  {
   "cell_type": "code",
   "execution_count": 47,
   "metadata": {},
   "outputs": [],
   "source": [
    "import json\n",
    "import os\n",
    "from scipy import stats"
   ]
  },
  {
   "cell_type": "code",
   "execution_count": 48,
   "metadata": {},
   "outputs": [],
   "source": [
    "f = open('../report_generators/processed_data/react/LENGTH/dim_x.json')\n",
    "dataset_1 = json.loads(f.read())\n",
    "f.close()\n",
    "\n",
    "f = open('../report_generators/processed_data/react/LENGTH/dim_y.json')\n",
    "dataset_2 = json.loads(f.read())\n",
    "f.close()\n",
    "\n",
    "# f = open('../report_generators/processed_data/fixtures/LAYER/dim_x.json')\n",
    "# dataset_1 = json.loads(f.read())\n",
    "# f.close()\n",
    "\n",
    "# f = open('../report_generators/processed_data/fixtures/LAYER/dim_y.json')\n",
    "# dataset_2 = json.loads(f.read())\n",
    "# f.close()\n",
    "\n"
   ]
  },
  {
   "cell_type": "code",
   "execution_count": 49,
   "metadata": {},
   "outputs": [
    {
     "name": "stdout",
     "output_type": "stream",
     "text": [
      "False\n"
     ]
    }
   ],
   "source": [
    "def isMonotonic(A):\n",
    " \n",
    "    return (all(A[i] <= A[i + 1] for i in range(len(A) - 1)) or\n",
    "            all(A[i] >= A[i + 1] for i in range(len(A) - 1)))\n",
    " \n",
    " \n",
    "# Driver program\n",
    "# A = [3, 3, 1, 1, 1, 3, 3, 3, 1, 1, 1, 1, 1, 1, 1, 1, 1, 1, 1, 1, 1, 3, 1, 1, 1, 3, 1, 1, 3, 1, 3, 1, 3, 1, 1, 3, 1, 3, 3, 2, 3, 3, 1, 1, 3, 3, 3, 3, 1, 1, 3, 4, 2, 3, 3, 3, 2, 3, 3, 3, 3, 1, 1, 1, 3, 3, 1, 1, 1, 2, 1, 1, 1, 1, 3, 1, 1, 1, 3, 1, 1, 3, 1, 3, 1, 3, 1, 3]\n",
    " \n",
    "# Print required result\n",
    "print(isMonotonic(dataset_1) and isMonotonic(dataset_2))"
   ]
  },
  {
   "cell_type": "code",
   "execution_count": 50,
   "metadata": {},
   "outputs": [
    {
     "name": "stdout",
     "output_type": "stream",
     "text": [
      "P-Value:  1.5344614174614162e-99\n",
      "corr = 0.02064527550483556\n"
     ]
    }
   ],
   "source": [
    "# if isMonotonic(dataset_1) and isMonotonic(dataset_2):\n",
    "corr, p_val = stats.kendalltau(dataset_1, dataset_2)\n",
    "# print(\"use Spearman correlation\")\n",
    "print (\"P-Value: \", p_val)\n",
    "print(f'corr = {corr}')\n",
    "# else:\n",
    "#     corr, p_val = stats.pearsonr(x = dataset_1, y = dataset_2)\n",
    "#     print(\"use Pearson correlation\")\n",
    "#     print (\"P-Value: \", p_val)\n",
    "#     print(f'corr = {corr}')"
   ]
  },
  {
   "cell_type": "code",
   "execution_count": null,
   "metadata": {},
   "outputs": [],
   "source": []
  }
 ],
 "metadata": {
  "kernelspec": {
   "display_name": "Python 3",
   "language": "python",
   "name": "python3"
  },
  "language_info": {
   "codemirror_mode": {
    "name": "ipython",
    "version": 3
   },
   "file_extension": ".py",
   "mimetype": "text/x-python",
   "name": "python",
   "nbconvert_exporter": "python",
   "pygments_lexer": "ipython3",
   "version": "3.10.6"
  },
  "orig_nbformat": 4,
  "vscode": {
   "interpreter": {
    "hash": "e7370f93d1d0cde622a1f8e1c04877d8463912d04d973331ad4851f04de6915a"
   }
  }
 },
 "nbformat": 4,
 "nbformat_minor": 2
}
