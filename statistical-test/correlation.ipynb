{
 "cells": [
  {
   "cell_type": "code",
   "execution_count": 1,
   "metadata": {},
   "outputs": [],
   "source": [
    "import json\n",
    "import os\n",
    "from scipy import stats"
   ]
  },
  {
   "cell_type": "code",
   "execution_count": 2,
   "metadata": {},
   "outputs": [
    {
     "name": "stdout",
     "output_type": "stream",
     "text": [
      "[3, 3, 1, 1, 1, 3, 3, 3, 1, 1, 1, 1, 1, 1, 1, 1, 1, 1, 1, 1, 1, 3, 1, 1, 1, 3, 1, 1, 3, 1, 3, 1, 3, 1, 1, 3, 1, 3, 3, 2, 3, 3, 1, 1, 3, 3, 3, 3, 1, 1, 3, 4, 2, 3, 3, 3, 2, 3, 3, 3, 3, 1, 1, 1, 3, 3, 1, 1, 1, 2, 1, 1, 1, 1, 3, 1, 1, 1, 3, 1, 1, 3, 1, 3, 1, 3, 1, 3]\n",
      "[3, 3, 3, 2, 1, 2, 1, 3, 2, 2, 3, 1, 3, 2, 3, 3, 3, 1, 3, 3, 3, 2, 1, 2, 1, 3, 2, 2, 3, 1, 3, 2, 3, 3, 3, 1, 3, 3, 3, 2, 1, 2, 1, 3, 2, 2, 3, 1, 3, 2, 3, 3, 3, 1, 1, 1, 3, 3, 3, 3, 3, 3, 3, 3, 3, 3, 1, 3, 1, 3, 1, 3, 1, 1, 3, 3, 2, 1, 3, 3, 3, 1, 2, 1, 1, 3, 2, 1, 1, 3, 3, 1, 1, 3, 3, 3, 2, 1, 1, 1, 3, 3, 2, 1, 1, 3, 3, 3, 1, 1, 3, 3, 3, 2, 1, 1, 1, 3, 3, 2, 1, 1, 3, 3, 3, 1, 1, 3, 3, 3, 3, 2, 1, 1, 1, 1, 3, 3, 2, 1, 1, 3, 3, 3, 3, 1, 1, 3, 3, 3, 3, 3, 2, 1, 1, 1, 1, 3, 1, 1, 1, 1, 1, 1, 3, 2, 1, 1, 3, 3, 3, 3, 3, 1, 3, 1, 2, 1, 3, 1, 2, 1, 3, 1, 1, 3, 2, 3, 1, 2]\n"
     ]
    }
   ],
   "source": [
    "f = open('./datasets/fixtures.json')\n",
    "dataset_1 = json.loads(f.read())\n",
    "f.close()\n",
    "print(dataset_1)\n",
    "\n",
    "f = open('./datasets/packages.json')\n",
    "dataset_2 = json.loads(f.read())\n",
    "f.close()\n",
    "print(dataset_2)\n",
    "\n",
    "f = open('./datasets/scripts.json')\n",
    "dataset_3 = json.loads(f.read())\n",
    "f.close()"
   ]
  },
  {
   "cell_type": "code",
   "execution_count": 3,
   "metadata": {},
   "outputs": [
    {
     "name": "stdout",
     "output_type": "stream",
     "text": [
      "False\n"
     ]
    }
   ],
   "source": [
    "def isMonotonic(A):\n",
    " \n",
    "    return (all(A[i] <= A[i + 1] for i in range(len(A) - 1)) or\n",
    "            all(A[i] >= A[i + 1] for i in range(len(A) - 1)))\n",
    " \n",
    " \n",
    "# Driver program\n",
    "A = [3, 3, 1, 1, 1, 3, 3, 3, 1, 1, 1, 1, 1, 1, 1, 1, 1, 1, 1, 1, 1, 3, 1, 1, 1, 3, 1, 1, 3, 1, 3, 1, 3, 1, 1, 3, 1, 3, 3, 2, 3, 3, 1, 1, 3, 3, 3, 3, 1, 1, 3, 4, 2, 3, 3, 3, 2, 3, 3, 3, 3, 1, 1, 1, 3, 3, 1, 1, 1, 2, 1, 1, 1, 1, 3, 1, 1, 1, 3, 1, 1, 3, 1, 3, 1, 3, 1, 3]\n",
    " \n",
    "# Print required result\n",
    "print(isMonotonic(A))"
   ]
  },
  {
   "cell_type": "code",
   "execution_count": 4,
   "metadata": {},
   "outputs": [
    {
     "data": {
      "text/plain": [
       "PearsonRResult(statistic=0.9999999999999999, pvalue=0.0)"
      ]
     },
     "execution_count": 4,
     "metadata": {},
     "output_type": "execute_result"
    }
   ],
   "source": [
    "import numpy as np\n",
    "from scipy import stats\n",
    "res = stats.pearsonr(x = dataset_1, y = dataset_1)\n",
    "res"
   ]
  },
  {
   "cell_type": "code",
   "execution_count": null,
   "metadata": {},
   "outputs": [],
   "source": []
  }
 ],
 "metadata": {
  "kernelspec": {
   "display_name": "Python 3",
   "language": "python",
   "name": "python3"
  },
  "language_info": {
   "codemirror_mode": {
    "name": "ipython",
    "version": 3
   },
   "file_extension": ".py",
   "mimetype": "text/x-python",
   "name": "python",
   "nbconvert_exporter": "python",
   "pygments_lexer": "ipython3",
   "version": "3.9.5 (tags/v3.9.5:0a7dcbd, May  3 2021, 17:27:52) [MSC v.1928 64 bit (AMD64)]"
  },
  "orig_nbformat": 4,
  "vscode": {
   "interpreter": {
    "hash": "21d6f997591a4f04bcf0f3f409b5a123908df0705bb40261c8a7639709837063"
   }
  }
 },
 "nbformat": 4,
 "nbformat_minor": 2
}
