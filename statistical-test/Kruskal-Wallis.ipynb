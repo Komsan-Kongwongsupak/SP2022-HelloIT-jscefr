{
 "cells": [
  {
   "cell_type": "code",
   "execution_count": 1,
   "metadata": {},
   "outputs": [],
   "source": [
    "data_group1 = [7, 9, 12, 15, 21]\n",
    "data_group2 = [5, 8, 14, 13, 25]\n",
    "data_group3 = [6, 8, 8, 9, 5]"
   ]
  },
  {
   "cell_type": "code",
   "execution_count": 2,
   "metadata": {},
   "outputs": [
    {
     "name": "stdout",
     "output_type": "stream",
     "text": [
      "KruskalResult(statistic=3.492418772563175, pvalue=0.17443390338074047)\n"
     ]
    }
   ],
   "source": [
    "# Import libraries\n",
    "from scipy import stats\n",
    " \n",
    "# Defining data groups\n",
    "data_group1 = [7, 9, 12, 15, 21]\n",
    "data_group2 = [5, 8, 14, 13, 25]\n",
    "data_group3 = [6, 8, 8, 9, 5]\n",
    " \n",
    "# Conduct the Kruskal-Wallis Test\n",
    "result = stats.kruskal(data_group1, data_group2, data_group3)\n",
    " \n",
    "# Print the result\n",
    "print(result)"
   ]
  },
  {
   "cell_type": "code",
   "execution_count": null,
   "metadata": {},
   "outputs": [],
   "source": []
  }
 ],
 "metadata": {
  "kernelspec": {
   "display_name": "Python 3.9.5 64-bit",
   "language": "python",
   "name": "python3"
  },
  "language_info": {
   "codemirror_mode": {
    "name": "ipython",
    "version": 3
   },
   "file_extension": ".py",
   "mimetype": "text/x-python",
   "name": "python",
   "nbconvert_exporter": "python",
   "pygments_lexer": "ipython3",
   "version": "3.9.5 (tags/v3.9.5:0a7dcbd, May  3 2021, 17:27:52) [MSC v.1928 64 bit (AMD64)]"
  },
  "orig_nbformat": 4,
  "vscode": {
   "interpreter": {
    "hash": "21d6f997591a4f04bcf0f3f409b5a123908df0705bb40261c8a7639709837063"
   }
  }
 },
 "nbformat": 4,
 "nbformat_minor": 2
}
